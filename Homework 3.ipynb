{
 "cells": [
  {
   "cell_type": "markdown",
   "metadata": {},
   "source": [
    "# Homework 3\n",
    "\n",
    "Complete this notebook submit on GitHub"
   ]
  },
  {
   "cell_type": "markdown",
   "metadata": {},
   "source": [
    "## Data Structures"
   ]
  },
  {
   "cell_type": "markdown",
   "metadata": {},
   "source": [
    "Q1. Write a function that takes in a set of words and a list of words and returns a dictionary of the words in the list that are in the set and their count.\n",
    "\n",
    "Example\n",
    "\n",
    "| input | output |\n",
    "|-------|--------|\n",
    "| f({'movie', 'good', 'hello'}, ['hello', 'good', 'hello']) | {'movie': 0, 'hello': 2, 'good': 1} |\n",
    "| f({}, ['hello', 'good', 'movie']) | {} |\n",
    "| f({'hello', 'movie', 'good'}, []) | {'movie': 0, 'hello': 0, 'good': 0} |\n",
    "\n"
   ]
  },
  {
   "cell_type": "code",
   "execution_count": null,
   "metadata": {},
   "outputs": [],
   "source": [
    "# Write Q1 here\n",
    "def count_words(words_set:set,words_list:list) -> dict[str,int]:\n",
    "\n",
    "    frequency = {word:0 for word in words_set}\n",
    "    \n",
    "    for word in words_list:\n",
    "        if word in words_set:\n",
    "            frequency[word] += 1\n",
    "\n",
    "    return frequency[word]"
   ]
  },
  {
   "cell_type": "markdown",
   "metadata": {},
   "source": [
    "Q2. Write a function that takes in a string and returns the count of **each alphabet**.\n",
    "\n",
    "| input | output |\n",
    "|-------|--------|\n",
    "| f(\"hello\") | {'h': 1, 'e': 1, 'l': 2, 'o': 1} |\n",
    "| f(\"test\") | {'t': 2, 'e': 1, 's': 1} |\n",
    "| f(\"\") | {} |\n",
    "| f(\"hello test\") | {'h': 1, 'e': 2, 'l': 2, 'o': 1, 't': 2, 's': 1} |\n"
   ]
  },
  {
   "cell_type": "code",
   "execution_count": null,
   "metadata": {},
   "outputs": [
    {
     "name": "stdout",
     "output_type": "stream",
     "text": [
      "{'h': 1, 'e': 1, 'l': 2, 'o': 1}\n"
     ]
    }
   ],
   "source": [
    "# Write Q2 here\n",
    "def count_alphabet(word:str) -> dict[str,int]:\n",
    "\n",
    "    frequency = {each_letter: 0 for each_letter in word if each_letter.isalpha()}\n",
    "\n",
    "    for each_letter in word:\n",
    "        if each_letter.isalpha():\n",
    "          frequency[each_letter] += 1\n",
    "    \n",
    "    return frequency"
   ]
  },
  {
   "cell_type": "markdown",
   "metadata": {},
   "source": [
    "## Functions"
   ]
  },
  {
   "cell_type": "markdown",
   "metadata": {},
   "source": [
    "Q3. What are functions? How would you define them?\n",
    "\n",
    "Functions are reusable codes that can do specific tasks like count numbers. Functions usually have parameters and returns.\n",
    "\n",
    "Q4. What are function signatures?\n",
    "\n",
    "Function signature describes some attributes of the function like its name, parameter and its type, return's type.\n",
    "\n",
    "Q5. What are parameters? How many parameters can you define in a function?\n",
    "\n",
    "Parameters are variables that a function takes in and process with, theoretically you can define infinite parameters in one function.\n",
    "\n",
    "Q6. What is the purpose of a return statement? What happens when you don't have a return statement, what does the function return?\n",
    "\n",
    "Return statement indicates what the value the function is sending out in the end, and it can end the function.\n",
    "If you don't have a return statement, the function would return \"None\"\n",
    "\n",
    "Q7. Write a function `process_string` that processes string as follows (note the order of each step is not important):\n",
    "\n",
    "* Replaces spaces with \"_\"\n",
    "* Convert lowercase letters to uppercase letters\n",
    "* Remove vowels from each word\n",
    "* Reverse the string\n",
    "* Write a wrapper function\n",
    "\n",
    "For each task write a single function and then call those functions in `process_string`\n",
    "\n",
    "\n",
    "| input | output |\n",
    "|-------|--------|\n",
    "| processing_string(\"Hello World\") | WRLD_HLL |\n",
    "| process_string(\"How are you doing?\") | DNG_Y_R_HW |\n",
    "| process_string(\"World\") | WRLD |\n",
    "\n",
    "\n",
    "Q8. Write a function that checks if a number is prime or not. Note that the definition of a prime number is that it is only divisble by 1 and itself. "
   ]
  },
  {
   "cell_type": "code",
   "execution_count": 12,
   "metadata": {},
   "outputs": [],
   "source": [
    "#Q7\n",
    "\n",
    "def replace_spaces(text: str) -> str:\n",
    "\n",
    "    return text.replace(\" \", \"_\")\n",
    "\n",
    "def to_uppercase(text: str) -> str:\n",
    "\n",
    "    return text.upper()\n",
    "\n",
    "def remove_vowels(text:str) -> str:\n",
    "\n",
    "    vowels = {\"A\", \"E\", \"I\", \"O\", \"U\"}\n",
    "    result = \"\"\n",
    "    for each_letter in text:\n",
    "        if each_letter not in vowels:\n",
    "            result += each_letter\n",
    "\n",
    "    return result\n",
    "\n",
    "def reverse_string(text:str) -> str:\n",
    "\n",
    "    return text[::-1]\n",
    "\n",
    "def process_string(text:str) -> str:\n",
    "\n",
    "    result = replace_spaces(text)\n",
    "    result = to_uppercase(result)\n",
    "    result = remove_vowels(result)\n",
    "    result = reverse_string(result)\n",
    "\n",
    "    return result"
   ]
  },
  {
   "cell_type": "code",
   "execution_count": null,
   "metadata": {},
   "outputs": [
    {
     "name": "stdout",
     "output_type": "stream",
     "text": [
      "False\n"
     ]
    }
   ],
   "source": [
    "#Q8\n",
    "\n",
    "def is_prime(number:int) -> bool:\n",
    "    if number < 2:\n",
    "        return False\n",
    "    elif number == 2:\n",
    "        return True\n",
    "    elif number % 2 == 0:\n",
    "        return False\n",
    "    \n",
    "    for i in range(3, int(number**0.5+1)):\n",
    "        if number % i == 0:\n",
    "            return False\n",
    "    return True"
   ]
  },
  {
   "cell_type": "markdown",
   "metadata": {},
   "source": [
    "## Recursion"
   ]
  },
  {
   "cell_type": "markdown",
   "metadata": {},
   "source": [
    "Q9. Write a function that recursively calculates the length of a string\n",
    "\n",
    "\n",
    "Q10. Write a function that recursively calcluates the sum of numbers in a list"
   ]
  },
  {
   "cell_type": "code",
   "execution_count": 18,
   "metadata": {},
   "outputs": [],
   "source": [
    "#Q9\n",
    "def calculate_length(text:str) -> int:\n",
    "    if text == \"\":\n",
    "        return 0\n",
    "    else:\n",
    "        return 1 + calculate_length(text[1:])"
   ]
  },
  {
   "cell_type": "code",
   "execution_count": null,
   "metadata": {},
   "outputs": [
    {
     "name": "stdout",
     "output_type": "stream",
     "text": [
      "10\n"
     ]
    }
   ],
   "source": [
    "#Q10\n",
    "def calculate_sum(numbers:list) -> int:\n",
    "    if len(numbers) == 1:\n",
    "        return numbers[0]\n",
    "    else:\n",
    "        return calculate_sum(numbers[1:]) + numbers[0]"
   ]
  }
 ],
 "metadata": {
  "kernelspec": {
   "display_name": "Python 3",
   "language": "python",
   "name": "python3"
  },
  "language_info": {
   "codemirror_mode": {
    "name": "ipython",
    "version": 3
   },
   "file_extension": ".py",
   "mimetype": "text/x-python",
   "name": "python",
   "nbconvert_exporter": "python",
   "pygments_lexer": "ipython3",
   "version": "3.12.7"
  }
 },
 "nbformat": 4,
 "nbformat_minor": 2
}
